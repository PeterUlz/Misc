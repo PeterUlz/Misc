{
 "cells": [
  {
   "cell_type": "markdown",
   "metadata": {},
   "source": [
    "## Clustering Examples"
   ]
  },
  {
   "cell_type": "markdown",
   "metadata": {},
   "source": [
    "Import Modules  \n",
    "* numerical python (Numpy)\n",
    "* SciKit Learn (Module that facilitates machine learning)\n",
    "* Pandas General DataScience Module"
   ]
  },
  {
   "cell_type": "code",
   "execution_count": 21,
   "metadata": {
    "collapsed": true
   },
   "outputs": [],
   "source": [
    "import numpy\n",
    "import sklearn\n",
    "import pandas\n",
    "import matplotlib.pyplot as plt "
   ]
  },
  {
   "cell_type": "markdown",
   "metadata": {},
   "source": [
    "Create Random Data to demonstrate clustering  \n",
    "* We create two classes  \n",
    "* Data from class 1  is samples from gaussian distriubtion with µ=10 and sigma=5\n",
    "* Data from class 2  is samples from gaussian distriubtion with µ=1 and sigma=10\n",
    "* Add Class information to the data points\n",
    "* Bring data into a Pandas \"DataFrame\""
   ]
  },
  {
   "cell_type": "code",
   "execution_count": 56,
   "metadata": {
    "collapsed": false
   },
   "outputs": [],
   "source": [
    "numpy.random.seed(1)\n",
    "class1=10+5*numpy.random.randn(10,2)\n",
    "class2=1+10*numpy.random.randn(10,2)\n",
    "class_data1=pandas.DataFrame(class1,columns=[\"x\",\"y\"])\n",
    "class_data1['Class'] =pandas.Series(\"1\", index=class_data1.index)\n",
    "class_data2=pandas.DataFrame(class2,columns=[\"x\",\"y\"])\n",
    "class_data2['Class'] =pandas.Series(\"2\", index=class_data2.index)\n",
    "class_data=pandas.concat([class_data1,class_data2])"
   ]
  },
  {
   "cell_type": "markdown",
   "metadata": {},
   "source": [
    "Show all the data in a table"
   ]
  },
  {
   "cell_type": "code",
   "execution_count": 57,
   "metadata": {
    "collapsed": false
   },
   "outputs": [
    {
     "data": {
      "text/html": [
       "<div>\n",
       "<table border=\"1\" class=\"dataframe\">\n",
       "  <thead>\n",
       "    <tr style=\"text-align: right;\">\n",
       "      <th></th>\n",
       "      <th>x</th>\n",
       "      <th>y</th>\n",
       "      <th>Class</th>\n",
       "    </tr>\n",
       "  </thead>\n",
       "  <tbody>\n",
       "    <tr>\n",
       "      <th>0</th>\n",
       "      <td>18.121727</td>\n",
       "      <td>6.941218</td>\n",
       "      <td>1</td>\n",
       "    </tr>\n",
       "    <tr>\n",
       "      <th>1</th>\n",
       "      <td>7.359141</td>\n",
       "      <td>4.635157</td>\n",
       "      <td>1</td>\n",
       "    </tr>\n",
       "    <tr>\n",
       "      <th>2</th>\n",
       "      <td>14.327038</td>\n",
       "      <td>-1.507693</td>\n",
       "      <td>1</td>\n",
       "    </tr>\n",
       "    <tr>\n",
       "      <th>3</th>\n",
       "      <td>18.724059</td>\n",
       "      <td>6.193965</td>\n",
       "      <td>1</td>\n",
       "    </tr>\n",
       "    <tr>\n",
       "      <th>4</th>\n",
       "      <td>11.595195</td>\n",
       "      <td>8.753148</td>\n",
       "      <td>1</td>\n",
       "    </tr>\n",
       "    <tr>\n",
       "      <th>5</th>\n",
       "      <td>17.310540</td>\n",
       "      <td>-0.300704</td>\n",
       "      <td>1</td>\n",
       "    </tr>\n",
       "    <tr>\n",
       "      <th>6</th>\n",
       "      <td>8.387914</td>\n",
       "      <td>8.079728</td>\n",
       "      <td>1</td>\n",
       "    </tr>\n",
       "    <tr>\n",
       "      <th>7</th>\n",
       "      <td>15.668847</td>\n",
       "      <td>4.500544</td>\n",
       "      <td>1</td>\n",
       "    </tr>\n",
       "    <tr>\n",
       "      <th>8</th>\n",
       "      <td>9.137859</td>\n",
       "      <td>5.610708</td>\n",
       "      <td>1</td>\n",
       "    </tr>\n",
       "    <tr>\n",
       "      <th>9</th>\n",
       "      <td>10.211069</td>\n",
       "      <td>12.914076</td>\n",
       "      <td>1</td>\n",
       "    </tr>\n",
       "    <tr>\n",
       "      <th>0</th>\n",
       "      <td>-10.006192</td>\n",
       "      <td>12.447237</td>\n",
       "      <td>2</td>\n",
       "    </tr>\n",
       "    <tr>\n",
       "      <th>1</th>\n",
       "      <td>10.015907</td>\n",
       "      <td>6.024943</td>\n",
       "      <td>2</td>\n",
       "    </tr>\n",
       "    <tr>\n",
       "      <th>2</th>\n",
       "      <td>10.008559</td>\n",
       "      <td>-5.837279</td>\n",
       "      <td>2</td>\n",
       "    </tr>\n",
       "    <tr>\n",
       "      <th>3</th>\n",
       "      <td>-0.228902</td>\n",
       "      <td>-8.357694</td>\n",
       "      <td>2</td>\n",
       "    </tr>\n",
       "    <tr>\n",
       "      <th>4</th>\n",
       "      <td>-1.678881</td>\n",
       "      <td>6.303555</td>\n",
       "      <td>2</td>\n",
       "    </tr>\n",
       "    <tr>\n",
       "      <th>5</th>\n",
       "      <td>-5.916608</td>\n",
       "      <td>-2.967535</td>\n",
       "      <td>2</td>\n",
       "    </tr>\n",
       "    <tr>\n",
       "      <th>6</th>\n",
       "      <td>-5.871727</td>\n",
       "      <td>-7.452056</td>\n",
       "      <td>2</td>\n",
       "    </tr>\n",
       "    <tr>\n",
       "      <th>7</th>\n",
       "      <td>-5.712461</td>\n",
       "      <td>0.873354</td>\n",
       "      <td>2</td>\n",
       "    </tr>\n",
       "    <tr>\n",
       "      <th>8</th>\n",
       "      <td>-10.173103</td>\n",
       "      <td>3.344157</td>\n",
       "      <td>2</td>\n",
       "    </tr>\n",
       "    <tr>\n",
       "      <th>9</th>\n",
       "      <td>17.598022</td>\n",
       "      <td>8.420442</td>\n",
       "      <td>2</td>\n",
       "    </tr>\n",
       "  </tbody>\n",
       "</table>\n",
       "</div>"
      ],
      "text/plain": [
       "           x          y Class\n",
       "0  18.121727   6.941218     1\n",
       "1   7.359141   4.635157     1\n",
       "2  14.327038  -1.507693     1\n",
       "3  18.724059   6.193965     1\n",
       "4  11.595195   8.753148     1\n",
       "5  17.310540  -0.300704     1\n",
       "6   8.387914   8.079728     1\n",
       "7  15.668847   4.500544     1\n",
       "8   9.137859   5.610708     1\n",
       "9  10.211069  12.914076     1\n",
       "0 -10.006192  12.447237     2\n",
       "1  10.015907   6.024943     2\n",
       "2  10.008559  -5.837279     2\n",
       "3  -0.228902  -8.357694     2\n",
       "4  -1.678881   6.303555     2\n",
       "5  -5.916608  -2.967535     2\n",
       "6  -5.871727  -7.452056     2\n",
       "7  -5.712461   0.873354     2\n",
       "8 -10.173103   3.344157     2\n",
       "9  17.598022   8.420442     2"
      ]
     },
     "execution_count": 57,
     "metadata": {},
     "output_type": "execute_result"
    }
   ],
   "source": [
    "class_data"
   ]
  },
  {
   "cell_type": "markdown",
   "metadata": {},
   "source": [
    "Plot the data in a Scatterplot"
   ]
  },
  {
   "cell_type": "code",
   "execution_count": 58,
   "metadata": {
    "collapsed": false
   },
   "outputs": [
    {
     "data": {
      "text/plain": [
       "<matplotlib.axes._subplots.AxesSubplot at 0x7f43f11238d0>"
      ]
     },
     "execution_count": 58,
     "metadata": {},
     "output_type": "execute_result"
    },
    {
     "data": {
      "image/png": "[encoded data removed]",
      "text/plain": [
       "<matplotlib.figure.Figure at 0x7f43f11237d0>"
      ]
     },
     "metadata": {},
     "output_type": "display_data"
    }
   ],
   "source": [
    "%matplotlib inline\n",
    "class_data.plot(kind='scatter',x='x',y='y')"
   ]
  },
  {
   "cell_type": "markdown",
   "metadata": {},
   "source": [
    "Try to color the points according to class"
   ]
  },
  {
   "cell_type": "code",
   "execution_count": 61,
   "metadata": {
    "collapsed": false
   },
   "outputs": [],
   "source": [
    "class_data1=pandas.DataFrame(class1,columns=[\"x\",\"y\"])\n",
    "class_data1['Class'] =pandas.Series(\"red\", index=class_data1.index)\n",
    "class_data2=pandas.DataFrame(class2,columns=[\"x\",\"y\"])\n",
    "class_data2['Class'] =pandas.Series(\"green\", index=class_data2.index)\n",
    "class_data=pandas.concat([class_data1,class_data2])"
   ]
  },
  {
   "cell_type": "code",
   "execution_count": null,
   "metadata": {
    "collapsed": true
   },
   "outputs": [],
   "source": []
  }
 ],
 "metadata": {
  "kernelspec": {
   "display_name": "Python 2",
   "language": "python",
   "name": "python2"
  },
  "language_info": {
   "codemirror_mode": {
    "name": "ipython",
    "version": 2
   },
   "file_extension": ".py",
   "mimetype": "text/x-python",
   "name": "python",
   "nbconvert_exporter": "python",
   "pygments_lexer": "ipython2",
   "version": "2.7.12"
  }
 },
 "nbformat": 4,
 "nbformat_minor": 1
}
